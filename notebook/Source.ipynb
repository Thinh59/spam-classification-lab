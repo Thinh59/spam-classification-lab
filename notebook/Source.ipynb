{
  "nbformat": 4,
  "nbformat_minor": 0,
  "metadata": {
    "colab": {
      "provenance": []
    },
    "kernelspec": {
      "name": "python3",
      "display_name": "Python 3"
    },
    "language_info": {
      "name": "python"
    }
  },
  "cells": [
    {
      "cell_type": "markdown",
      "source": [
        "Nhóm 9:\\\n",
        "23122018 Lại Nguyễn Hồng Thanh\\\n",
        "23122019 Phan Huỳnh Châu Thịnh\\\n",
        "23122029 Nguyễn Trọng Hòa\\\n",
        "23122047 Nguyễn Xuân Quang"
      ],
      "metadata": {
        "id": "rMXnjoQ7eIX1"
      }
    },
    {
      "cell_type": "markdown",
      "source": [
        "# Cài đặt các thư viện"
      ],
      "metadata": {
        "id": "awPM0obhel48"
      }
    },
    {
      "cell_type": "code",
      "execution_count": 1,
      "metadata": {
        "id": "GWaLK5rhd7VZ"
      },
      "outputs": [],
      "source": [
        "import pandas as pd\n",
        "import numpy as np"
      ]
    },
    {
      "cell_type": "markdown",
      "source": [
        "# Tải tập dữ liệu"
      ],
      "metadata": {
        "id": "zq_lJlt-eohg"
      }
    },
    {
      "cell_type": "markdown",
      "source": [
        "## Hàm đọc dữ liệu từ link google drive"
      ],
      "metadata": {
        "id": "D18GH4aakVGu"
      }
    },
    {
      "cell_type": "code",
      "source": [
        "def download_drive_csv(file_id, filename='data.csv'):\n",
        "    url = f\"https://drive.google.com/uc?id={file_id}\"\n",
        "\n",
        "    try:\n",
        "        df = pd.read_csv(url)\n",
        "        print(f\"Đã tải và đọc thành công file CSV từ Google Drive. Kích thước: {df.shape}\")\n",
        "        return df\n",
        "    except Exception as e:\n",
        "        print(\"Lỗi khi tải file:\", e)\n",
        "        return None"
      ],
      "metadata": {
        "id": "Sd7CE7NUhOQ3"
      },
      "execution_count": 2,
      "outputs": []
    },
    {
      "cell_type": "markdown",
      "source": [
        "## Đọc tập train: [train.csv](https://drive.google.com/file/d/1sq2Cia5Nc1dwWubC9NAGz7jzaRK5nZ9-/view?usp=drive_link)"
      ],
      "metadata": {
        "id": "kfwqt_COkZbJ"
      }
    },
    {
      "cell_type": "code",
      "source": [
        "#Đọc dữ liệu\n",
        "file_id_train = \"1sq2Cia5Nc1dwWubC9NAGz7jzaRK5nZ9-\"\n",
        "train = download_drive_csv(file_id_train)\n",
        "\n",
        "#In ra 5 dòng đầu tiên của tập train\n",
        "train.head()"
      ],
      "metadata": {
        "colab": {
          "base_uri": "https://localhost:8080/",
          "height": 223
        },
        "id": "fNl6xdIfhZfD",
        "outputId": "52f7b540-4938-4bc3-e457-f332cd3b0a3c"
      },
      "execution_count": 3,
      "outputs": [
        {
          "output_type": "stream",
          "name": "stdout",
          "text": [
            "Đã tải và đọc thành công file CSV từ Google Drive. Kích thước: (27284, 6)\n"
          ]
        },
        {
          "output_type": "execute_result",
          "data": {
            "text/plain": [
              "   Unnamed: 0  Message ID                       Subject  \\\n",
              "0           0           0  christmas tree farm pictures   \n",
              "1           1           1      vastar resources , inc .   \n",
              "2           2           2  calpine daily gas nomination   \n",
              "3           3           3                    re : issue   \n",
              "4           5           5      mcmullen gas for 11 / 99   \n",
              "\n",
              "                                             Message Spam/Ham     split  \n",
              "0                                                NaN      ham  0.038415  \n",
              "1  gary , production from the high island larger ...      ham  0.696509  \n",
              "2             - calpine daily gas nomination 1 . doc      ham  0.587792  \n",
              "3  fyi - see note below - already done .\\nstella\\...      ham -0.055438  \n",
              "4  jackie ,\\nsince the inlet to 3 river plant is ...      ham -0.419658  "
            ],
            "text/html": [
              "\n",
              "  <div id=\"df-164cf4f7-baaa-419c-b847-3647204a4fe1\" class=\"colab-df-container\">\n",
              "    <div>\n",
              "<style scoped>\n",
              "    .dataframe tbody tr th:only-of-type {\n",
              "        vertical-align: middle;\n",
              "    }\n",
              "\n",
              "    .dataframe tbody tr th {\n",
              "        vertical-align: top;\n",
              "    }\n",
              "\n",
              "    .dataframe thead th {\n",
              "        text-align: right;\n",
              "    }\n",
              "</style>\n",
              "<table border=\"1\" class=\"dataframe\">\n",
              "  <thead>\n",
              "    <tr style=\"text-align: right;\">\n",
              "      <th></th>\n",
              "      <th>Unnamed: 0</th>\n",
              "      <th>Message ID</th>\n",
              "      <th>Subject</th>\n",
              "      <th>Message</th>\n",
              "      <th>Spam/Ham</th>\n",
              "      <th>split</th>\n",
              "    </tr>\n",
              "  </thead>\n",
              "  <tbody>\n",
              "    <tr>\n",
              "      <th>0</th>\n",
              "      <td>0</td>\n",
              "      <td>0</td>\n",
              "      <td>christmas tree farm pictures</td>\n",
              "      <td>NaN</td>\n",
              "      <td>ham</td>\n",
              "      <td>0.038415</td>\n",
              "    </tr>\n",
              "    <tr>\n",
              "      <th>1</th>\n",
              "      <td>1</td>\n",
              "      <td>1</td>\n",
              "      <td>vastar resources , inc .</td>\n",
              "      <td>gary , production from the high island larger ...</td>\n",
              "      <td>ham</td>\n",
              "      <td>0.696509</td>\n",
              "    </tr>\n",
              "    <tr>\n",
              "      <th>2</th>\n",
              "      <td>2</td>\n",
              "      <td>2</td>\n",
              "      <td>calpine daily gas nomination</td>\n",
              "      <td>- calpine daily gas nomination 1 . doc</td>\n",
              "      <td>ham</td>\n",
              "      <td>0.587792</td>\n",
              "    </tr>\n",
              "    <tr>\n",
              "      <th>3</th>\n",
              "      <td>3</td>\n",
              "      <td>3</td>\n",
              "      <td>re : issue</td>\n",
              "      <td>fyi - see note below - already done .\\nstella\\...</td>\n",
              "      <td>ham</td>\n",
              "      <td>-0.055438</td>\n",
              "    </tr>\n",
              "    <tr>\n",
              "      <th>4</th>\n",
              "      <td>5</td>\n",
              "      <td>5</td>\n",
              "      <td>mcmullen gas for 11 / 99</td>\n",
              "      <td>jackie ,\\nsince the inlet to 3 river plant is ...</td>\n",
              "      <td>ham</td>\n",
              "      <td>-0.419658</td>\n",
              "    </tr>\n",
              "  </tbody>\n",
              "</table>\n",
              "</div>\n",
              "    <div class=\"colab-df-buttons\">\n",
              "\n",
              "  <div class=\"colab-df-container\">\n",
              "    <button class=\"colab-df-convert\" onclick=\"convertToInteractive('df-164cf4f7-baaa-419c-b847-3647204a4fe1')\"\n",
              "            title=\"Convert this dataframe to an interactive table.\"\n",
              "            style=\"display:none;\">\n",
              "\n",
              "  <svg xmlns=\"http://www.w3.org/2000/svg\" height=\"24px\" viewBox=\"0 -960 960 960\">\n",
              "    <path d=\"M120-120v-720h720v720H120Zm60-500h600v-160H180v160Zm220 220h160v-160H400v160Zm0 220h160v-160H400v160ZM180-400h160v-160H180v160Zm440 0h160v-160H620v160ZM180-180h160v-160H180v160Zm440 0h160v-160H620v160Z\"/>\n",
              "  </svg>\n",
              "    </button>\n",
              "\n",
              "  <style>\n",
              "    .colab-df-container {\n",
              "      display:flex;\n",
              "      gap: 12px;\n",
              "    }\n",
              "\n",
              "    .colab-df-convert {\n",
              "      background-color: #E8F0FE;\n",
              "      border: none;\n",
              "      border-radius: 50%;\n",
              "      cursor: pointer;\n",
              "      display: none;\n",
              "      fill: #1967D2;\n",
              "      height: 32px;\n",
              "      padding: 0 0 0 0;\n",
              "      width: 32px;\n",
              "    }\n",
              "\n",
              "    .colab-df-convert:hover {\n",
              "      background-color: #E2EBFA;\n",
              "      box-shadow: 0px 1px 2px rgba(60, 64, 67, 0.3), 0px 1px 3px 1px rgba(60, 64, 67, 0.15);\n",
              "      fill: #174EA6;\n",
              "    }\n",
              "\n",
              "    .colab-df-buttons div {\n",
              "      margin-bottom: 4px;\n",
              "    }\n",
              "\n",
              "    [theme=dark] .colab-df-convert {\n",
              "      background-color: #3B4455;\n",
              "      fill: #D2E3FC;\n",
              "    }\n",
              "\n",
              "    [theme=dark] .colab-df-convert:hover {\n",
              "      background-color: #434B5C;\n",
              "      box-shadow: 0px 1px 3px 1px rgba(0, 0, 0, 0.15);\n",
              "      filter: drop-shadow(0px 1px 2px rgba(0, 0, 0, 0.3));\n",
              "      fill: #FFFFFF;\n",
              "    }\n",
              "  </style>\n",
              "\n",
              "    <script>\n",
              "      const buttonEl =\n",
              "        document.querySelector('#df-164cf4f7-baaa-419c-b847-3647204a4fe1 button.colab-df-convert');\n",
              "      buttonEl.style.display =\n",
              "        google.colab.kernel.accessAllowed ? 'block' : 'none';\n",
              "\n",
              "      async function convertToInteractive(key) {\n",
              "        const element = document.querySelector('#df-164cf4f7-baaa-419c-b847-3647204a4fe1');\n",
              "        const dataTable =\n",
              "          await google.colab.kernel.invokeFunction('convertToInteractive',\n",
              "                                                    [key], {});\n",
              "        if (!dataTable) return;\n",
              "\n",
              "        const docLinkHtml = 'Like what you see? Visit the ' +\n",
              "          '<a target=\"_blank\" href=https://colab.research.google.com/notebooks/data_table.ipynb>data table notebook</a>'\n",
              "          + ' to learn more about interactive tables.';\n",
              "        element.innerHTML = '';\n",
              "        dataTable['output_type'] = 'display_data';\n",
              "        await google.colab.output.renderOutput(dataTable, element);\n",
              "        const docLink = document.createElement('div');\n",
              "        docLink.innerHTML = docLinkHtml;\n",
              "        element.appendChild(docLink);\n",
              "      }\n",
              "    </script>\n",
              "  </div>\n",
              "\n",
              "\n",
              "    <div id=\"df-a9f8acdc-e28d-408b-b15e-6ae5c49e5de9\">\n",
              "      <button class=\"colab-df-quickchart\" onclick=\"quickchart('df-a9f8acdc-e28d-408b-b15e-6ae5c49e5de9')\"\n",
              "                title=\"Suggest charts\"\n",
              "                style=\"display:none;\">\n",
              "\n",
              "<svg xmlns=\"http://www.w3.org/2000/svg\" height=\"24px\"viewBox=\"0 0 24 24\"\n",
              "     width=\"24px\">\n",
              "    <g>\n",
              "        <path d=\"M19 3H5c-1.1 0-2 .9-2 2v14c0 1.1.9 2 2 2h14c1.1 0 2-.9 2-2V5c0-1.1-.9-2-2-2zM9 17H7v-7h2v7zm4 0h-2V7h2v10zm4 0h-2v-4h2v4z\"/>\n",
              "    </g>\n",
              "</svg>\n",
              "      </button>\n",
              "\n",
              "<style>\n",
              "  .colab-df-quickchart {\n",
              "      --bg-color: #E8F0FE;\n",
              "      --fill-color: #1967D2;\n",
              "      --hover-bg-color: #E2EBFA;\n",
              "      --hover-fill-color: #174EA6;\n",
              "      --disabled-fill-color: #AAA;\n",
              "      --disabled-bg-color: #DDD;\n",
              "  }\n",
              "\n",
              "  [theme=dark] .colab-df-quickchart {\n",
              "      --bg-color: #3B4455;\n",
              "      --fill-color: #D2E3FC;\n",
              "      --hover-bg-color: #434B5C;\n",
              "      --hover-fill-color: #FFFFFF;\n",
              "      --disabled-bg-color: #3B4455;\n",
              "      --disabled-fill-color: #666;\n",
              "  }\n",
              "\n",
              "  .colab-df-quickchart {\n",
              "    background-color: var(--bg-color);\n",
              "    border: none;\n",
              "    border-radius: 50%;\n",
              "    cursor: pointer;\n",
              "    display: none;\n",
              "    fill: var(--fill-color);\n",
              "    height: 32px;\n",
              "    padding: 0;\n",
              "    width: 32px;\n",
              "  }\n",
              "\n",
              "  .colab-df-quickchart:hover {\n",
              "    background-color: var(--hover-bg-color);\n",
              "    box-shadow: 0 1px 2px rgba(60, 64, 67, 0.3), 0 1px 3px 1px rgba(60, 64, 67, 0.15);\n",
              "    fill: var(--button-hover-fill-color);\n",
              "  }\n",
              "\n",
              "  .colab-df-quickchart-complete:disabled,\n",
              "  .colab-df-quickchart-complete:disabled:hover {\n",
              "    background-color: var(--disabled-bg-color);\n",
              "    fill: var(--disabled-fill-color);\n",
              "    box-shadow: none;\n",
              "  }\n",
              "\n",
              "  .colab-df-spinner {\n",
              "    border: 2px solid var(--fill-color);\n",
              "    border-color: transparent;\n",
              "    border-bottom-color: var(--fill-color);\n",
              "    animation:\n",
              "      spin 1s steps(1) infinite;\n",
              "  }\n",
              "\n",
              "  @keyframes spin {\n",
              "    0% {\n",
              "      border-color: transparent;\n",
              "      border-bottom-color: var(--fill-color);\n",
              "      border-left-color: var(--fill-color);\n",
              "    }\n",
              "    20% {\n",
              "      border-color: transparent;\n",
              "      border-left-color: var(--fill-color);\n",
              "      border-top-color: var(--fill-color);\n",
              "    }\n",
              "    30% {\n",
              "      border-color: transparent;\n",
              "      border-left-color: var(--fill-color);\n",
              "      border-top-color: var(--fill-color);\n",
              "      border-right-color: var(--fill-color);\n",
              "    }\n",
              "    40% {\n",
              "      border-color: transparent;\n",
              "      border-right-color: var(--fill-color);\n",
              "      border-top-color: var(--fill-color);\n",
              "    }\n",
              "    60% {\n",
              "      border-color: transparent;\n",
              "      border-right-color: var(--fill-color);\n",
              "    }\n",
              "    80% {\n",
              "      border-color: transparent;\n",
              "      border-right-color: var(--fill-color);\n",
              "      border-bottom-color: var(--fill-color);\n",
              "    }\n",
              "    90% {\n",
              "      border-color: transparent;\n",
              "      border-bottom-color: var(--fill-color);\n",
              "    }\n",
              "  }\n",
              "</style>\n",
              "\n",
              "      <script>\n",
              "        async function quickchart(key) {\n",
              "          const quickchartButtonEl =\n",
              "            document.querySelector('#' + key + ' button');\n",
              "          quickchartButtonEl.disabled = true;  // To prevent multiple clicks.\n",
              "          quickchartButtonEl.classList.add('colab-df-spinner');\n",
              "          try {\n",
              "            const charts = await google.colab.kernel.invokeFunction(\n",
              "                'suggestCharts', [key], {});\n",
              "          } catch (error) {\n",
              "            console.error('Error during call to suggestCharts:', error);\n",
              "          }\n",
              "          quickchartButtonEl.classList.remove('colab-df-spinner');\n",
              "          quickchartButtonEl.classList.add('colab-df-quickchart-complete');\n",
              "        }\n",
              "        (() => {\n",
              "          let quickchartButtonEl =\n",
              "            document.querySelector('#df-a9f8acdc-e28d-408b-b15e-6ae5c49e5de9 button');\n",
              "          quickchartButtonEl.style.display =\n",
              "            google.colab.kernel.accessAllowed ? 'block' : 'none';\n",
              "        })();\n",
              "      </script>\n",
              "    </div>\n",
              "\n",
              "    </div>\n",
              "  </div>\n"
            ],
            "application/vnd.google.colaboratory.intrinsic+json": {
              "type": "dataframe",
              "variable_name": "train",
              "summary": "{\n  \"name\": \"train\",\n  \"rows\": 27284,\n  \"fields\": [\n    {\n      \"column\": \"Unnamed: 0\",\n      \"properties\": {\n        \"dtype\": \"number\",\n        \"std\": 9724,\n        \"min\": 0,\n        \"max\": 33715,\n        \"num_unique_values\": 27284,\n        \"samples\": [\n          5123,\n          12402,\n          12979\n        ],\n        \"semantic_type\": \"\",\n        \"description\": \"\"\n      }\n    },\n    {\n      \"column\": \"Message ID\",\n      \"properties\": {\n        \"dtype\": \"number\",\n        \"std\": 9724,\n        \"min\": 0,\n        \"max\": 33715,\n        \"num_unique_values\": 27284,\n        \"samples\": [\n          5123,\n          12402,\n          12979\n        ],\n        \"semantic_type\": \"\",\n        \"description\": \"\"\n      }\n    },\n    {\n      \"column\": \"Subject\",\n      \"properties\": {\n        \"dtype\": \"string\",\n        \"num_unique_values\": 20231,\n        \"samples\": [\n          \"investment idea\",\n          \"paracodin sells better than vicodin\",\n          \"for the last three decades , brokerage houses - - such as merryll lynch - - have cashed in with greater returns than any other industry\"\n        ],\n        \"semantic_type\": \"\",\n        \"description\": \"\"\n      }\n    },\n    {\n      \"column\": \"Message\",\n      \"properties\": {\n        \"dtype\": \"string\",\n        \"num_unique_values\": 24451,\n        \"samples\": [\n          \"hows it been going ?\\nyou have been chosen to participate in an invitation\\nonly event !\\nare you currently paying over 3 % for your mortgage ?\\nstop ! we can help you lower that today !\\nanswer only a few questions and we can get you\\napproved in under 1 minute , it ' s that simple !\\nmore info here : anyhgh . com\\n$ 302 , 000 loans are available for only $ 231 / month !\\neveryone is approved !\\nbad credit ?\\nno problem ! we ' ll have you saving money in no time !\\nare you ready to save ?\\njust fill out our short form : anyhgh . com\\nthanks alot ,\\nbaez v . jodie , v\\nprojecthoneypot @ projecthoneypot . org\\nthe secret of life is honesty and fair dealing . if you can fake that , you ' ve got it made . - groucho marx ( 1890 - 1977 ) . from that day on there were new rules in my classroom . each student was to have an adult ' communication partner ' at the computer . this adult was to sit with the child , not saying a word until the student stopped and looked at the adult or in some other way indicated that communication was desired . then the adult was only to encourage the student by saying the word , nodding the headand smiling . the student was allowed to continue his or her learning . when the student imitated a word , the adult was to respond appropriately . no questions were allowed during this beginning phase . the students were just learning to talk . .\\nluke is missing jumping today . . few things are harder to put up with than the annoyance of a good example . .\\nall my life i ' ve wanted to be someone ; i guess i should have been more specific . jane wagner / lily tomlin ( 1939 - ) . i am not missing surfing . .\",\n          \"discount drugs . . . save 80 % every order !\\nwe are the number one online retailler for dozens of medications . our customers save 80\\ncents out of every dollar , every time , compared to the industry price . yes , that is less than\\nquarter - price\\nwe have all the products that our customers have asked for , including new superviagra\\nsoft - tabs that work in just 15 minutes ! this is the next - generation of sexual improvement\\nwonder - drugs , far more effective than viagra - half a pill will last for 36 hours !\\nget all the information on superviagra here : http : / / friggings . net / cs / ? cheapgeneric\\nour key to keeping customers satisfied is :\\neasy ordering online\\nsave 80 % on regular price\\nwe have massive stocks of drugs for same day dispatch\\nfast delivery straight to your door with discrete packaging\\nwe are the biggest internet retailler with thousands of regular customers\\nno consultation fee\\nno intimate questions or examinations\\nno appointment\\nno prior prescription needed\\nprivate and confidential service\\nplease come by our shop , see for yourself the massive range of products that we have\\navailable . we do have the lowest price and huge stocks ready for same - day dispatch .\\ntwo million customers can ' t be wrong !\\nsee our full range at http : / / friggings . net / ? cheapgeneric\\n\",\n          \"per my voicemails to each of you . . . .\\njenny latham is currently a manager in power risk in houston , and is\\ninterested in moving to london . she is very well respected within enron , and\\nis a highly rated employee . she has been with enron for several years , in\\nvarious positions , and will move us far ahead in the staffing . in january , i\\nmet with yvonne scorer to identify recruiting needs to build the mid and back\\noffice for the london activity for eim . one position identified , business\\ncontroller , is the position i have discussed with jenny , and she is very\\ninterested . i am anxious to move this forward asap for a couple of reasons :\\n1 ) . jenny is interested , and i do not want to lose her to other\\nopportunities within the london office , and 2 ) . it is not too early to move\\nforward on the staffing of the office as it will take some time to\\nappropriately staff and transition current support from egm .\\nbruce , last week jenny and i met with you , and we discussed that it would be\\nappropriate for jenny to spend time with us here in houston to learn our\\ncurrent processes , commoditiies , etc . i absolutely agree with this , but we\\nneed to make a deal with her before we can start that process . the sequence\\nof events that make sense to me and that i believe would make jenny the most\\ncomfortable is that we 1 ) . agree on the financial package ( compensation ,\\nmoving allowance , etc ) , 2 ) . transition her current responsibilities within\\npower risk , and 3 ) . begin training with us . simultaneously , we will need to\\nrecruit applicants for the remaining positions in risk , documentation ,\\nsettlements and trade accounting . my goal is to have everything in place in\\nlondon by the end of first quarter .\\nto meet this time line , we need to get more information and have a discussion\\nwith meryl on the specifics . bruce , can you give meryl the green light to\\nmove forward with us ? i appreciate your help .\"\n        ],\n        \"semantic_type\": \"\",\n        \"description\": \"\"\n      }\n    },\n    {\n      \"column\": \"Spam/Ham\",\n      \"properties\": {\n        \"dtype\": \"category\",\n        \"num_unique_values\": 2,\n        \"samples\": [\n          \"spam\",\n          \"ham\"\n        ],\n        \"semantic_type\": \"\",\n        \"description\": \"\"\n      }\n    },\n    {\n      \"column\": \"split\",\n      \"properties\": {\n        \"dtype\": \"number\",\n        \"std\": 1.0024066869151718,\n        \"min\": -3.842532500480177,\n        \"max\": 3.6127381957087294,\n        \"num_unique_values\": 27284,\n        \"samples\": [\n          0.9783164143218958,\n          -1.0624398833040851\n        ],\n        \"semantic_type\": \"\",\n        \"description\": \"\"\n      }\n    }\n  ]\n}"
            }
          },
          "metadata": {},
          "execution_count": 3
        }
      ]
    },
    {
      "cell_type": "markdown",
      "source": [
        "## Đọc tập val: [val.csv](https://drive.google.com/file/d/1gF8xTQEbUhtIpezYnrTE3wuonIhfx7NC/view?usp=drive_link)"
      ],
      "metadata": {
        "id": "X7Hqd31Qkpay"
      }
    },
    {
      "cell_type": "code",
      "source": [
        "#Đọc dữ liệu\n",
        "file_id_val = \"1gF8xTQEbUhtIpezYnrTE3wuonIhfx7NC\"\n",
        "val = download_drive_csv(file_id_val)\n",
        "#In ra 5 dòng đầu tiên của tập val\n",
        "val.head()"
      ],
      "metadata": {
        "colab": {
          "base_uri": "https://localhost:8080/",
          "height": 223
        },
        "id": "OEf27Emxk1Fc",
        "outputId": "5fae21f6-db3f-46b4-ecfc-7143cbc03ef8"
      },
      "execution_count": 4,
      "outputs": [
        {
          "output_type": "stream",
          "name": "stdout",
          "text": [
            "Đã tải và đọc thành công file CSV từ Google Drive. Kích thước: (3084, 6)\n"
          ]
        },
        {
          "output_type": "execute_result",
          "data": {
            "text/plain": [
              "   Unnamed: 0  Message ID                                      Subject  \\\n",
              "0          23          23                                miscellaneous   \n",
              "1          24          24  re : purge of old contract _ event _ status   \n",
              "2          32          32                         valero 8018 and 1394   \n",
              "3          37          37               01 / 00 natural gas nomination   \n",
              "4          43          43                        re : misc . questions   \n",
              "\n",
              "                                             Message Spam/Ham     split  \n",
              "0  - - - - - - - - - - - - - - - - - - - - - - fo...      ham -0.351998  \n",
              "1  fyi - what do you all think ?\\n- - - - - - - -...      ham  0.257704  \n",
              "2  it is my understanding the outages valero incu...      ham  0.091200  \n",
              "3  enron methanol company nominates the following...      ham -1.745133  \n",
              "4  - - - - - - - - - - - - - - - - - - - - - - fo...      ham -1.911987  "
            ],
            "text/html": [
              "\n",
              "  <div id=\"df-98224af7-c423-4d26-aaa1-520d84eca59a\" class=\"colab-df-container\">\n",
              "    <div>\n",
              "<style scoped>\n",
              "    .dataframe tbody tr th:only-of-type {\n",
              "        vertical-align: middle;\n",
              "    }\n",
              "\n",
              "    .dataframe tbody tr th {\n",
              "        vertical-align: top;\n",
              "    }\n",
              "\n",
              "    .dataframe thead th {\n",
              "        text-align: right;\n",
              "    }\n",
              "</style>\n",
              "<table border=\"1\" class=\"dataframe\">\n",
              "  <thead>\n",
              "    <tr style=\"text-align: right;\">\n",
              "      <th></th>\n",
              "      <th>Unnamed: 0</th>\n",
              "      <th>Message ID</th>\n",
              "      <th>Subject</th>\n",
              "      <th>Message</th>\n",
              "      <th>Spam/Ham</th>\n",
              "      <th>split</th>\n",
              "    </tr>\n",
              "  </thead>\n",
              "  <tbody>\n",
              "    <tr>\n",
              "      <th>0</th>\n",
              "      <td>23</td>\n",
              "      <td>23</td>\n",
              "      <td>miscellaneous</td>\n",
              "      <td>- - - - - - - - - - - - - - - - - - - - - - fo...</td>\n",
              "      <td>ham</td>\n",
              "      <td>-0.351998</td>\n",
              "    </tr>\n",
              "    <tr>\n",
              "      <th>1</th>\n",
              "      <td>24</td>\n",
              "      <td>24</td>\n",
              "      <td>re : purge of old contract _ event _ status</td>\n",
              "      <td>fyi - what do you all think ?\\n- - - - - - - -...</td>\n",
              "      <td>ham</td>\n",
              "      <td>0.257704</td>\n",
              "    </tr>\n",
              "    <tr>\n",
              "      <th>2</th>\n",
              "      <td>32</td>\n",
              "      <td>32</td>\n",
              "      <td>valero 8018 and 1394</td>\n",
              "      <td>it is my understanding the outages valero incu...</td>\n",
              "      <td>ham</td>\n",
              "      <td>0.091200</td>\n",
              "    </tr>\n",
              "    <tr>\n",
              "      <th>3</th>\n",
              "      <td>37</td>\n",
              "      <td>37</td>\n",
              "      <td>01 / 00 natural gas nomination</td>\n",
              "      <td>enron methanol company nominates the following...</td>\n",
              "      <td>ham</td>\n",
              "      <td>-1.745133</td>\n",
              "    </tr>\n",
              "    <tr>\n",
              "      <th>4</th>\n",
              "      <td>43</td>\n",
              "      <td>43</td>\n",
              "      <td>re : misc . questions</td>\n",
              "      <td>- - - - - - - - - - - - - - - - - - - - - - fo...</td>\n",
              "      <td>ham</td>\n",
              "      <td>-1.911987</td>\n",
              "    </tr>\n",
              "  </tbody>\n",
              "</table>\n",
              "</div>\n",
              "    <div class=\"colab-df-buttons\">\n",
              "\n",
              "  <div class=\"colab-df-container\">\n",
              "    <button class=\"colab-df-convert\" onclick=\"convertToInteractive('df-98224af7-c423-4d26-aaa1-520d84eca59a')\"\n",
              "            title=\"Convert this dataframe to an interactive table.\"\n",
              "            style=\"display:none;\">\n",
              "\n",
              "  <svg xmlns=\"http://www.w3.org/2000/svg\" height=\"24px\" viewBox=\"0 -960 960 960\">\n",
              "    <path d=\"M120-120v-720h720v720H120Zm60-500h600v-160H180v160Zm220 220h160v-160H400v160Zm0 220h160v-160H400v160ZM180-400h160v-160H180v160Zm440 0h160v-160H620v160ZM180-180h160v-160H180v160Zm440 0h160v-160H620v160Z\"/>\n",
              "  </svg>\n",
              "    </button>\n",
              "\n",
              "  <style>\n",
              "    .colab-df-container {\n",
              "      display:flex;\n",
              "      gap: 12px;\n",
              "    }\n",
              "\n",
              "    .colab-df-convert {\n",
              "      background-color: #E8F0FE;\n",
              "      border: none;\n",
              "      border-radius: 50%;\n",
              "      cursor: pointer;\n",
              "      display: none;\n",
              "      fill: #1967D2;\n",
              "      height: 32px;\n",
              "      padding: 0 0 0 0;\n",
              "      width: 32px;\n",
              "    }\n",
              "\n",
              "    .colab-df-convert:hover {\n",
              "      background-color: #E2EBFA;\n",
              "      box-shadow: 0px 1px 2px rgba(60, 64, 67, 0.3), 0px 1px 3px 1px rgba(60, 64, 67, 0.15);\n",
              "      fill: #174EA6;\n",
              "    }\n",
              "\n",
              "    .colab-df-buttons div {\n",
              "      margin-bottom: 4px;\n",
              "    }\n",
              "\n",
              "    [theme=dark] .colab-df-convert {\n",
              "      background-color: #3B4455;\n",
              "      fill: #D2E3FC;\n",
              "    }\n",
              "\n",
              "    [theme=dark] .colab-df-convert:hover {\n",
              "      background-color: #434B5C;\n",
              "      box-shadow: 0px 1px 3px 1px rgba(0, 0, 0, 0.15);\n",
              "      filter: drop-shadow(0px 1px 2px rgba(0, 0, 0, 0.3));\n",
              "      fill: #FFFFFF;\n",
              "    }\n",
              "  </style>\n",
              "\n",
              "    <script>\n",
              "      const buttonEl =\n",
              "        document.querySelector('#df-98224af7-c423-4d26-aaa1-520d84eca59a button.colab-df-convert');\n",
              "      buttonEl.style.display =\n",
              "        google.colab.kernel.accessAllowed ? 'block' : 'none';\n",
              "\n",
              "      async function convertToInteractive(key) {\n",
              "        const element = document.querySelector('#df-98224af7-c423-4d26-aaa1-520d84eca59a');\n",
              "        const dataTable =\n",
              "          await google.colab.kernel.invokeFunction('convertToInteractive',\n",
              "                                                    [key], {});\n",
              "        if (!dataTable) return;\n",
              "\n",
              "        const docLinkHtml = 'Like what you see? Visit the ' +\n",
              "          '<a target=\"_blank\" href=https://colab.research.google.com/notebooks/data_table.ipynb>data table notebook</a>'\n",
              "          + ' to learn more about interactive tables.';\n",
              "        element.innerHTML = '';\n",
              "        dataTable['output_type'] = 'display_data';\n",
              "        await google.colab.output.renderOutput(dataTable, element);\n",
              "        const docLink = document.createElement('div');\n",
              "        docLink.innerHTML = docLinkHtml;\n",
              "        element.appendChild(docLink);\n",
              "      }\n",
              "    </script>\n",
              "  </div>\n",
              "\n",
              "\n",
              "    <div id=\"df-4734bbf1-6e4f-4193-998f-0ba911deaf3f\">\n",
              "      <button class=\"colab-df-quickchart\" onclick=\"quickchart('df-4734bbf1-6e4f-4193-998f-0ba911deaf3f')\"\n",
              "                title=\"Suggest charts\"\n",
              "                style=\"display:none;\">\n",
              "\n",
              "<svg xmlns=\"http://www.w3.org/2000/svg\" height=\"24px\"viewBox=\"0 0 24 24\"\n",
              "     width=\"24px\">\n",
              "    <g>\n",
              "        <path d=\"M19 3H5c-1.1 0-2 .9-2 2v14c0 1.1.9 2 2 2h14c1.1 0 2-.9 2-2V5c0-1.1-.9-2-2-2zM9 17H7v-7h2v7zm4 0h-2V7h2v10zm4 0h-2v-4h2v4z\"/>\n",
              "    </g>\n",
              "</svg>\n",
              "      </button>\n",
              "\n",
              "<style>\n",
              "  .colab-df-quickchart {\n",
              "      --bg-color: #E8F0FE;\n",
              "      --fill-color: #1967D2;\n",
              "      --hover-bg-color: #E2EBFA;\n",
              "      --hover-fill-color: #174EA6;\n",
              "      --disabled-fill-color: #AAA;\n",
              "      --disabled-bg-color: #DDD;\n",
              "  }\n",
              "\n",
              "  [theme=dark] .colab-df-quickchart {\n",
              "      --bg-color: #3B4455;\n",
              "      --fill-color: #D2E3FC;\n",
              "      --hover-bg-color: #434B5C;\n",
              "      --hover-fill-color: #FFFFFF;\n",
              "      --disabled-bg-color: #3B4455;\n",
              "      --disabled-fill-color: #666;\n",
              "  }\n",
              "\n",
              "  .colab-df-quickchart {\n",
              "    background-color: var(--bg-color);\n",
              "    border: none;\n",
              "    border-radius: 50%;\n",
              "    cursor: pointer;\n",
              "    display: none;\n",
              "    fill: var(--fill-color);\n",
              "    height: 32px;\n",
              "    padding: 0;\n",
              "    width: 32px;\n",
              "  }\n",
              "\n",
              "  .colab-df-quickchart:hover {\n",
              "    background-color: var(--hover-bg-color);\n",
              "    box-shadow: 0 1px 2px rgba(60, 64, 67, 0.3), 0 1px 3px 1px rgba(60, 64, 67, 0.15);\n",
              "    fill: var(--button-hover-fill-color);\n",
              "  }\n",
              "\n",
              "  .colab-df-quickchart-complete:disabled,\n",
              "  .colab-df-quickchart-complete:disabled:hover {\n",
              "    background-color: var(--disabled-bg-color);\n",
              "    fill: var(--disabled-fill-color);\n",
              "    box-shadow: none;\n",
              "  }\n",
              "\n",
              "  .colab-df-spinner {\n",
              "    border: 2px solid var(--fill-color);\n",
              "    border-color: transparent;\n",
              "    border-bottom-color: var(--fill-color);\n",
              "    animation:\n",
              "      spin 1s steps(1) infinite;\n",
              "  }\n",
              "\n",
              "  @keyframes spin {\n",
              "    0% {\n",
              "      border-color: transparent;\n",
              "      border-bottom-color: var(--fill-color);\n",
              "      border-left-color: var(--fill-color);\n",
              "    }\n",
              "    20% {\n",
              "      border-color: transparent;\n",
              "      border-left-color: var(--fill-color);\n",
              "      border-top-color: var(--fill-color);\n",
              "    }\n",
              "    30% {\n",
              "      border-color: transparent;\n",
              "      border-left-color: var(--fill-color);\n",
              "      border-top-color: var(--fill-color);\n",
              "      border-right-color: var(--fill-color);\n",
              "    }\n",
              "    40% {\n",
              "      border-color: transparent;\n",
              "      border-right-color: var(--fill-color);\n",
              "      border-top-color: var(--fill-color);\n",
              "    }\n",
              "    60% {\n",
              "      border-color: transparent;\n",
              "      border-right-color: var(--fill-color);\n",
              "    }\n",
              "    80% {\n",
              "      border-color: transparent;\n",
              "      border-right-color: var(--fill-color);\n",
              "      border-bottom-color: var(--fill-color);\n",
              "    }\n",
              "    90% {\n",
              "      border-color: transparent;\n",
              "      border-bottom-color: var(--fill-color);\n",
              "    }\n",
              "  }\n",
              "</style>\n",
              "\n",
              "      <script>\n",
              "        async function quickchart(key) {\n",
              "          const quickchartButtonEl =\n",
              "            document.querySelector('#' + key + ' button');\n",
              "          quickchartButtonEl.disabled = true;  // To prevent multiple clicks.\n",
              "          quickchartButtonEl.classList.add('colab-df-spinner');\n",
              "          try {\n",
              "            const charts = await google.colab.kernel.invokeFunction(\n",
              "                'suggestCharts', [key], {});\n",
              "          } catch (error) {\n",
              "            console.error('Error during call to suggestCharts:', error);\n",
              "          }\n",
              "          quickchartButtonEl.classList.remove('colab-df-spinner');\n",
              "          quickchartButtonEl.classList.add('colab-df-quickchart-complete');\n",
              "        }\n",
              "        (() => {\n",
              "          let quickchartButtonEl =\n",
              "            document.querySelector('#df-4734bbf1-6e4f-4193-998f-0ba911deaf3f button');\n",
              "          quickchartButtonEl.style.display =\n",
              "            google.colab.kernel.accessAllowed ? 'block' : 'none';\n",
              "        })();\n",
              "      </script>\n",
              "    </div>\n",
              "\n",
              "    </div>\n",
              "  </div>\n"
            ],
            "application/vnd.google.colaboratory.intrinsic+json": {
              "type": "dataframe",
              "variable_name": "val",
              "summary": "{\n  \"name\": \"val\",\n  \"rows\": 3084,\n  \"fields\": [\n    {\n      \"column\": \"Unnamed: 0\",\n      \"properties\": {\n        \"dtype\": \"number\",\n        \"std\": 9804,\n        \"min\": 23,\n        \"max\": 33692,\n        \"num_unique_values\": 3084,\n        \"samples\": [\n          16303,\n          26316,\n          20090\n        ],\n        \"semantic_type\": \"\",\n        \"description\": \"\"\n      }\n    },\n    {\n      \"column\": \"Message ID\",\n      \"properties\": {\n        \"dtype\": \"number\",\n        \"std\": 9804,\n        \"min\": 23,\n        \"max\": 33692,\n        \"num_unique_values\": 3084,\n        \"samples\": [\n          16303,\n          26316,\n          20090\n        ],\n        \"semantic_type\": \"\",\n        \"description\": \"\"\n      }\n    },\n    {\n      \"column\": \"Subject\",\n      \"properties\": {\n        \"dtype\": \"string\",\n        \"num_unique_values\": 2792,\n        \"samples\": [\n          \"online drugs - save up to 80 %\",\n          \"fw : * master netting assignments\",\n          \"re : cialls val 1 ium v ' iagra\"\n        ],\n        \"semantic_type\": \"\",\n        \"description\": \"\"\n      }\n    },\n    {\n      \"column\": \"Message\",\n      \"properties\": {\n        \"dtype\": \"string\",\n        \"num_unique_values\": 2985,\n        \"samples\": [\n          \"( see attached file : hplo 606 . xls )\\n- hplo 606 . xls\",\n          \"from : the desk of the promotions manager ,\\ninternational promotions / prize award department\\ncamelot lottery , uk\\n3 b olympic way , sefton business park ,\\naintree , liverpool , l 30 lrd\\nref no : meli - t / 17 - fo 44262312\\nbatch : 901 / 00319 / hlp\\naward winning notification\\nwe are pleased to inform you of the announcement today of winners of the mega jackpot lotto winnings\\nprograms held on 20 th august 2004 .\\nyour company or your personal e - mail address , is attached to ticket number 9901 - 0148 - 790 - 691 , with serial number 66109 - 17 drew the lucky numbers 990 - 11 - 815 - 37 - 10 - 83 , and consequently won the lottery in the 2 nd category .\\nyou have therefore been approved for a lump sum pay out of us $ 1 , 400 , 000 . 00 in cash credited to file ref no : meli - t / 17 - fo 44262312 this is from total prize money of us $ 7 , 000 , 000 . 00 shared among the twenty ( 5 ) international winners in this category .\\nall participants were selected through a computer ballot system drawn form 25 , 000 names from australia , new zealand , america , europe , north america and asia , as part of international promotions program , which is conducted annually .\\nyour fund has been deposited in an escrow account and insured in your name . due to the mix up of some numbers and names , we ask that you keep this award strictly from public notice until your claim has been processed and your money remitted to your account .\\nthis is part of our security protocol to avoid double claiming or unscrupulous acts by participants of this program . we hope with a part of your prize , you will participate in our year high stakes us $ 1 . 3 billion international lottery .\\nto claim your winning prize , you must first contact the claims department by email for processing and remittance of your prize money to you . the claims officer contact email is :\\nname : edward pinto\\nemail : admin @ camelotpromos . net\\nremember , all prize money must be claimed not later than the 25 th of november , 2004 . all funds not claimed on or before the fixed date will be returned as unclaimed .\\nnote : in order to avoid unnecessary delays and complications , please remember to quote your reference and batch numbers in all correspondences with this office .\\nfurthermore , should there be any change of your address , do inform us as soon as possible .\\ncongratulations again from all our staff for being part of our promotions program .\\nsincerely ,\\nmrs . floris dries\\nfor camelot lotto ;\\nn . b . any breach of confidentiality on the part of the winners will result in disqualification and any winner below the age of 18 years is automatically disqualified\\nnote : do no reply this mail . you are to contact your claims officer immediately .\\n\",\n          \"best software prices .\\nwhy can ' t they invent something for us to marry instead of women ?\\nah ! the clock is always slow ; it is later than you think .\"\n        ],\n        \"semantic_type\": \"\",\n        \"description\": \"\"\n      }\n    },\n    {\n      \"column\": \"Spam/Ham\",\n      \"properties\": {\n        \"dtype\": \"category\",\n        \"num_unique_values\": 2,\n        \"samples\": [\n          \"spam\",\n          \"ham\"\n        ],\n        \"semantic_type\": \"\",\n        \"description\": \"\"\n      }\n    },\n    {\n      \"column\": \"split\",\n      \"properties\": {\n        \"dtype\": \"number\",\n        \"std\": 1.0048038319794304,\n        \"min\": -3.80896038359741,\n        \"max\": 3.645984896883136,\n        \"num_unique_values\": 3084,\n        \"samples\": [\n          -0.2061198620256327,\n          -0.9562211703498252\n        ],\n        \"semantic_type\": \"\",\n        \"description\": \"\"\n      }\n    }\n  ]\n}"
            }
          },
          "metadata": {},
          "execution_count": 4
        }
      ]
    },
    {
      "cell_type": "markdown",
      "source": [
        "# Tiền xử lý dữ liệu"
      ],
      "metadata": {
        "id": "4np3bDpHhFaV"
      }
    },
    {
      "cell_type": "markdown",
      "source": [
        "## Xử lý dữ liệu trùng lặp"
      ],
      "metadata": {
        "id": "Cn9ZOxYTm3ni"
      }
    },
    {
      "cell_type": "markdown",
      "source": [
        "### *Kiểm tra dữ liệu trùng lặp*"
      ],
      "metadata": {
        "id": "czzL2MQCm7J3"
      }
    },
    {
      "cell_type": "code",
      "source": [
        "#Tập train\n",
        "num_dupl_train = train.duplicated().sum()\n",
        "print(\"Số lượng dữ liệu trùng lặp trong tập train:\", num_dupl_train)\n",
        "\n",
        "#Tập val\n",
        "num_dupl_val = val.duplicated().sum()\n",
        "print(\"Số lượng dữ liệu trùng lặp trong tập val:\", num_dupl_val)"
      ],
      "metadata": {
        "colab": {
          "base_uri": "https://localhost:8080/"
        },
        "id": "R_OK_kB-m5xl",
        "outputId": "6e4c03be-d1fa-4b17-ff0e-6e6bd3cc1294"
      },
      "execution_count": 5,
      "outputs": [
        {
          "output_type": "stream",
          "name": "stdout",
          "text": [
            "Số lượng dữ liệu trùng lặp trong tập train: 0\n",
            "Số lượng dữ liệu trùng lặp trong tập val: 0\n"
          ]
        }
      ]
    },
    {
      "cell_type": "markdown",
      "source": [
        "=> Không có dữ liệu trùng lặp"
      ],
      "metadata": {
        "id": "tVxBVgqPnKuv"
      }
    },
    {
      "cell_type": "markdown",
      "source": [
        "## Xử lý dữ liệu thiếu"
      ],
      "metadata": {
        "id": "mf1pWkcWmAgz"
      }
    },
    {
      "cell_type": "markdown",
      "source": [
        "###*Kiểm tra dữ liệu thiếu*"
      ],
      "metadata": {
        "id": "OhMGbdZBmH3E"
      }
    },
    {
      "cell_type": "code",
      "source": [
        "#Tập train\n",
        "miss_vals_train = train.isnull().sum()\n",
        "miss_vals_train = miss_vals_train[miss_vals_train > 0]\n",
        "\n",
        "#Tập val\n",
        "miss_vals_val = val.isnull().sum()\n",
        "miss_vals_val = miss_vals_val[miss_vals_val > 0]\n",
        "\n",
        "print(\"Số lượng dữ liệu thiếu: \")\n",
        "print(\"Tập train: \\n\", miss_vals_train)\n",
        "print(\"Tập val: \\n\", miss_vals_val)"
      ],
      "metadata": {
        "colab": {
          "base_uri": "https://localhost:8080/"
        },
        "id": "_NJgIOremGbJ",
        "outputId": "8e8e10a8-4bd3-409e-e79f-c6bf1e59fc5b"
      },
      "execution_count": 6,
      "outputs": [
        {
          "output_type": "stream",
          "name": "stdout",
          "text": [
            "Số lượng dữ liệu thiếu: \n",
            "Tập train: \n",
            " Subject    229\n",
            "Message    352\n",
            "dtype: int64\n",
            "Tập val: \n",
            " Subject    29\n",
            "Message    35\n",
            "dtype: int64\n"
          ]
        }
      ]
    },
    {
      "cell_type": "markdown",
      "source": [
        "### *Xử lý dữ liệu thiếu*\n",
        "Cách 1: Xóa những dòng dữ liệu thiếu\\\n",
        "Cách 2: Thay bằng fillna(' ')"
      ],
      "metadata": {
        "id": "xA9vQjWJn3J3"
      }
    },
    {
      "cell_type": "markdown",
      "source": [
        "#### **Xóa những dòng thiếu**"
      ],
      "metadata": {
        "id": "Pk0gnlQCpNjJ"
      }
    },
    {
      "cell_type": "code",
      "source": [
        "\"\"\"#Tập train\n",
        "train = train.dropna(subset = ['Subject', 'Message']).reset_index(drop = True)\n",
        "\n",
        "#Tập val\n",
        "val = val.dropna(subset = ['Subject', 'Message']).reset_index(drop = True)\n",
        "\n",
        "print(\"Kích thước sau khi xóa:\")\n",
        "print(\"Train: \", train.shape)\n",
        "print(\"Val:\", val.shape)\"\"\""
      ],
      "metadata": {
        "colab": {
          "base_uri": "https://localhost:8080/",
          "height": 53
        },
        "id": "tOOPEtsJhOtM",
        "outputId": "ba1912ec-2da4-4630-b172-2f0a5a684f5e"
      },
      "execution_count": 7,
      "outputs": [
        {
          "output_type": "execute_result",
          "data": {
            "text/plain": [
              "'#Tập train\\ntrain = train.dropna(subset = [\\'Subject\\', \\'Message\\']).reset_index(drop = True)\\n\\n#Tập val\\nval = val.dropna(subset = [\\'Subject\\', \\'Message\\']).reset_index(drop = True)\\n\\nprint(\"Kích thước sau khi xóa:\")\\nprint(\"Train: \", train.shape)\\nprint(\"Val:\", val.shape)'"
            ],
            "application/vnd.google.colaboratory.intrinsic+json": {
              "type": "string"
            }
          },
          "metadata": {},
          "execution_count": 7
        }
      ]
    },
    {
      "cell_type": "markdown",
      "source": [
        "#### **Xử lý bằng fillna**"
      ],
      "metadata": {
        "id": "B8ch-8-8pQ6r"
      }
    },
    {
      "cell_type": "code",
      "source": [
        "# Tập train\n",
        "train = train.fillna('')\n",
        "\n",
        "# Tập val\n",
        "val = val.fillna('')"
      ],
      "metadata": {
        "id": "_i4OhPxdpVSo"
      },
      "execution_count": 8,
      "outputs": []
    },
    {
      "cell_type": "markdown",
      "source": [
        "## Trộn lại dữ liệu\n",
        "- Tránh dữ liệu bị lệch phân phối spam/ham theo thứ tự: các thư spam nằm cùng một khu, các thư ham nằm cùng một khu.\n",
        "- Giúp các nhãn spam/ham được phân bố đều khắp tập dữ liệu."
      ],
      "metadata": {
        "id": "xvJLleKruTCe"
      }
    },
    {
      "cell_type": "code",
      "source": [
        "#Tập train\n",
        "train = train.sample(frac = 1, random_state = 42).reset_index(drop = True)"
      ],
      "metadata": {
        "id": "bxhVq8H3vF_K"
      },
      "execution_count": 9,
      "outputs": []
    },
    {
      "cell_type": "markdown",
      "source": [
        "## Gộp dữ liệu\n",
        "Gộp **Subject** và **Message** thành cột **text**: giúp mô hình học được xác suất từ trong cả subject và message"
      ],
      "metadata": {
        "id": "DPBy9wLz-5Kn"
      }
    },
    {
      "cell_type": "code",
      "source": [
        "#Tập train\n",
        "train['text'] = train['Subject'] + ' ' + train['Message']\n",
        "\n",
        "#Tập val\n",
        "val['text'] = val['Subject'] + ' ' + val['Message']"
      ],
      "metadata": {
        "id": "p6kXr80Z_JXh"
      },
      "execution_count": 10,
      "outputs": []
    },
    {
      "cell_type": "markdown",
      "source": [
        "## Kiểm tra tỷ lệ spam/ham"
      ],
      "metadata": {
        "id": "2OekTugQdBsS"
      }
    },
    {
      "cell_type": "code",
      "source": [
        "print(\"Train:\")\n",
        "print(train['Spam/Ham'].value_counts(normalize=True))\n",
        "print(\"Val:\")\n",
        "print(val['Spam/Ham'].value_counts(normalize=True))"
      ],
      "metadata": {
        "id": "lyNjEDt1E_Yr",
        "outputId": "378b916e-46c8-419e-d705-bd610a9e0791",
        "colab": {
          "base_uri": "https://localhost:8080/"
        }
      },
      "execution_count": 11,
      "outputs": [
        {
          "output_type": "stream",
          "name": "stdout",
          "text": [
            "Train:\n",
            "Spam/Ham\n",
            "spam    0.507917\n",
            "ham     0.492083\n",
            "Name: proportion, dtype: float64\n",
            "Val:\n",
            "Spam/Ham\n",
            "spam    0.506809\n",
            "ham     0.493191\n",
            "Name: proportion, dtype: float64\n"
          ]
        }
      ]
    },
    {
      "cell_type": "markdown",
      "source": [
        "=> Tỷ lệ spam/ham tương đối đồng đều."
      ],
      "metadata": {
        "id": "-XDK2eAdxJ1O"
      }
    },
    {
      "cell_type": "markdown",
      "source": [
        "## Mã hóa dữ liệu X, Y"
      ],
      "metadata": {
        "id": "quPV_0aTrxa_"
      }
    },
    {
      "cell_type": "markdown",
      "source": [
        "### *Dùng Bag-of-words*"
      ],
      "metadata": {
        "id": "fDfxTS0d8Obi"
      }
    },
    {
      "cell_type": "code",
      "source": [
        "# Mã hóa BoW\n",
        "def encode_bow_sparse(texts, vocab):\n",
        "    from scipy.sparse import lil_matrix\n",
        "    matrix = lil_matrix((len(texts), len(vocab)))\n",
        "    for i, text in enumerate(texts):\n",
        "        for word in text.split():\n",
        "            if word in vocab:\n",
        "                matrix[i, vocab[word]] += 1\n",
        "    return matrix.tocsr()\n",
        "\n",
        "# Xây dựng từ vựng\n",
        "vocab = {}\n",
        "idx = 0\n",
        "for text in train['text']:\n",
        "    for word in text.split():\n",
        "        if word not in vocab:\n",
        "            vocab[word] = idx\n",
        "            idx += 1\n",
        "\n",
        "\n",
        "X_train = encode_bow_sparse(train['text'], vocab)\n",
        "X_val = encode_bow_sparse(val['text'], vocab)\n",
        "\n",
        "Y_train = train['Spam/Ham'].map({'ham': 0, 'spam': 1}).to_numpy()\n",
        "Y_val = val['Spam/Ham'].map({'ham': 0, 'spam': 1}).to_numpy()"
      ],
      "metadata": {
        "id": "EwOpsH4jAF26"
      },
      "execution_count": 12,
      "outputs": []
    },
    {
      "cell_type": "markdown",
      "source": [
        "# Mô hình"
      ],
      "metadata": {
        "id": "rOS0hAD5hM-j"
      }
    },
    {
      "cell_type": "markdown",
      "source": [
        "## Mô hình: Naive Bayes Classifer\n"
      ],
      "metadata": {
        "id": "JbsyyV41dcZ9"
      }
    },
    {
      "cell_type": "code",
      "source": [
        "class MultinomialNB_self:\n",
        "    def __init__(self, alpha=1.0, threshold=0.5):\n",
        "        self.alpha = alpha\n",
        "        self.threshold = threshold\n",
        "        self.class_prior_ = None\n",
        "        self.feature_prob_ = None\n",
        "        self.classes_ = None\n",
        "\n",
        "    def fit(self, X, y):\n",
        "        self.classes_ = np.unique(y)\n",
        "        n_classes = len(self.classes_)\n",
        "        n_features = X.shape[1]\n",
        "\n",
        "        count_samples = np.array([np.sum(y == c) for c in self.classes_])\n",
        "        self.class_prior_ = count_samples / y.shape[0]\n",
        "\n",
        "        feature_count = np.zeros((n_classes, n_features), dtype=np.float64)\n",
        "        for idx, c in enumerate(self.classes_):\n",
        "            feature_count[idx, :] = X[y == c].sum(axis=0)\n",
        "\n",
        "        N_c = feature_count.sum(axis=1)\n",
        "\n",
        "        self.feature_prob_ = (feature_count + self.alpha) / (N_c[:, np.newaxis] + self.alpha * n_features)\n",
        "\n",
        "    def predict(self, X):\n",
        "        log_feature_prob = np.log(self.feature_prob_)\n",
        "        log_class_prior = np.log(self.class_prior_)\n",
        "\n",
        "        log_likelihood = X @ log_feature_prob.T\n",
        "        log_posterior = log_likelihood + log_class_prior\n",
        "\n",
        "        max_log = np.max(log_posterior, axis=1, keepdims=True)\n",
        "        exp_log = np.exp(log_posterior - max_log)\n",
        "        posterior_prob = exp_log / np.sum(exp_log, axis=1, keepdims=True)\n",
        "\n",
        "        spam_index = np.where(self.classes_ == 1)[0][0]\n",
        "        preds = (posterior_prob[:, spam_index] > self.threshold).astype(int)\n",
        "        return preds\n"
      ],
      "metadata": {
        "id": "XGyUwgPHRjaQ"
      },
      "execution_count": 13,
      "outputs": []
    },
    {
      "cell_type": "code",
      "source": [
        "model_self = MultinomialNB_self(alpha=1.0, threshold=0.5)\n",
        "model_self.fit(X_train, Y_train)\n",
        "\n",
        "train_pred = model_self.predict(X_train)\n",
        "val_pred = model_self.predict(X_val)"
      ],
      "metadata": {
        "id": "yhaDpsFIRnkj"
      },
      "execution_count": 14,
      "outputs": []
    },
    {
      "cell_type": "markdown",
      "source": [
        "## Đánh giá mô hình"
      ],
      "metadata": {
        "id": "tcWrwjzEsNRm"
      }
    },
    {
      "cell_type": "code",
      "source": [
        "def compute_metrics(y_true, y_pred):\n",
        "  y_true = np.array(y_true)\n",
        "  y_pred = np.array(y_pred)\n",
        "\n",
        "  TP = np.sum((y_true == 1) & (y_pred == 1))\n",
        "  TN = np.sum((y_true == 0) & (y_pred == 0))\n",
        "  FP = np.sum((y_true == 0) & (y_pred == 1))\n",
        "  FN = np.sum((y_true == 1) & (y_pred == 0))\n",
        "\n",
        "  if len(y_true) > 0:\n",
        "    accuracy = (TP + TN) / len(y_true)\n",
        "  else:\n",
        "    accuracy = 0\n",
        "\n",
        "  if (TP + FN) > 0:\n",
        "    recall = TP / (TP + FN)\n",
        "  else:\n",
        "    recall = 0\n",
        "\n",
        "  if (TP + FP) > 0:\n",
        "    precision = TP / (TP + FP)\n",
        "  else:\n",
        "    precision = 0\n",
        "\n",
        "  if (precision + recall) > 0:\n",
        "    f1 = 2 * precision * recall / (precision + recall)\n",
        "  else:\n",
        "    f1 = 0\n",
        "\n",
        "  return accuracy, recall, precision, f1"
      ],
      "metadata": {
        "id": "_ElXe0NrnbWT"
      },
      "execution_count": 15,
      "outputs": []
    },
    {
      "cell_type": "code",
      "source": [
        "print(\"Train:\")\n",
        "acc, rec, prec, f1 = compute_metrics(Y_train, train_pred)\n",
        "print(\"Accuracy :\", acc)\n",
        "print(\"Recall   :\", rec)\n",
        "print(\"Precision:\", prec)\n",
        "print(\"F1-score :\", f1)\n",
        "\n",
        "print(\"Validation:\")\n",
        "acc, rec, prec, f1 = compute_metrics(Y_val, val_pred)\n",
        "print(\"Accuracy :\", acc)\n",
        "print(\"Recall   :\", rec)\n",
        "print(\"Precision:\", prec)\n",
        "print(\"F1-score :\", f1)"
      ],
      "metadata": {
        "colab": {
          "base_uri": "https://localhost:8080/"
        },
        "id": "xrl2oO9BncPy",
        "outputId": "a6c215e0-a804-4259-d5fb-e206c21abf38"
      },
      "execution_count": 16,
      "outputs": [
        {
          "output_type": "stream",
          "name": "stdout",
          "text": [
            "Train:\n",
            "Accuracy : 0.9892977569271367\n",
            "Recall   : 0.9903304950209265\n",
            "Precision: 0.9886183547039331\n",
            "F1-score : 0.9894736842105262\n",
            "Validation:\n",
            "Accuracy : 0.9850843060959793\n",
            "Recall   : 0.9852847088931542\n",
            "Precision: 0.9852847088931542\n",
            "F1-score : 0.9852847088931542\n"
          ]
        }
      ]
    },
    {
      "cell_type": "markdown",
      "source": [
        "# Thử nghiệm thực tế"
      ],
      "metadata": {
        "id": "vRvQuHeFhTOI"
      }
    },
    {
      "cell_type": "markdown",
      "source": [
        "## Chức năng 1"
      ],
      "metadata": {
        "id": "FTHmBPJyUiBO"
      }
    },
    {
      "cell_type": "markdown",
      "source": [
        "### **Xử lý như xử lý train**"
      ],
      "metadata": {
        "id": "3I0p3VaxmqLa"
      }
    },
    {
      "cell_type": "code",
      "source": [
        "def process_email(subject, message, model, vocab):\n",
        "  #Không cần xử lý trùng lặp vì chỉ có một email\n",
        "  #Xử lý nếu thiếu subject hay message\n",
        "  if not subject:\n",
        "    subject = ' '\n",
        "  if not message:\n",
        "    message = ' '\n",
        "\n",
        "  #Gộp dữ liệu\n",
        "  text = subject + ' ' + message\n",
        "\n",
        "  #Mã hóa\n",
        "  if vocab is not None:\n",
        "    X = encode_bow_sparse([text], vocab)\n",
        "  else:\n",
        "    raise ValueError(\"Vocab must be provided\")\n",
        "  return X"
      ],
      "metadata": {
        "id": "dvYGOOvehWCC"
      },
      "execution_count": 17,
      "outputs": []
    },
    {
      "cell_type": "markdown",
      "source": [
        "### **Phân loại**"
      ],
      "metadata": {
        "id": "wjENlYx8mtMQ"
      }
    },
    {
      "cell_type": "code",
      "source": [
        "def predict_email(subject, message, model, vocab):\n",
        "  X = process_email(subject, message, model, vocab)\n",
        "  pred = model.predict(X)\n",
        "  return pred"
      ],
      "metadata": {
        "id": "cPbmEHMuX-gQ"
      },
      "execution_count": 18,
      "outputs": []
    },
    {
      "cell_type": "code",
      "source": [
        "subject_input = input(\"Nhập vào tiêu đề email (Subject): \")\n",
        "message_input = input(\"Nhập vào nội dung email (Message): \")\n",
        "\n",
        "label = predict_email(subject_input, message_input, model_self, vocab = vocab)\n",
        "if label == 1:\n",
        "  print(\"Email là spam\")\n",
        "else:\n",
        "  print(\"Email là ham\")\n"
      ],
      "metadata": {
        "id": "0wUGsumZ0zZh",
        "colab": {
          "base_uri": "https://localhost:8080/"
        },
        "outputId": "fcef8e2d-b029-4fa4-f198-3996cb9b47f9"
      },
      "execution_count": 19,
      "outputs": [
        {
          "output_type": "stream",
          "name": "stdout",
          "text": [
            "Nhập vào tiêu đề email (Subject): hhh\n",
            "Nhập vào nội dung email (Message): kk\n",
            "Email là spam\n"
          ]
        }
      ]
    },
    {
      "cell_type": "markdown",
      "source": [
        "## Chức năng 2\n",
        "Đọc dữ liệu từ file test.csv (Vui lòng truyền vào **file_path**)"
      ],
      "metadata": {
        "id": "iuCVvFc2Ukic"
      }
    },
    {
      "cell_type": "markdown",
      "source": [
        "### **Xử lý dữ liệu như train**"
      ],
      "metadata": {
        "id": "juv6pT_ohCkt"
      }
    },
    {
      "cell_type": "code",
      "source": [
        "def process_test(file_path, model, vocab):\n",
        "  test = pd.read_csv(file_path)\n",
        "\n",
        "  #Xử lý dữ liệu trùng lặp\n",
        "  num_dupl = test.duplicated().sum()\n",
        "  if (num_dupl > 0):\n",
        "    test = test.drop_duplicates()\n",
        "\n",
        "  #Xử lý dữ liệu thiếu\n",
        "  miss_vals = test.isnull().sum()\n",
        "  miss_vals = miss_vals[miss_vals > 0]\n",
        "\n",
        "  if (miss_vals.shape[0] > 0):\n",
        "    test = test.fillna(' ')\n",
        "\n",
        "  #Gộp dữ liệu\n",
        "  test['text'] = test['Subject'] + ' ' + test['Message']\n",
        "\n",
        "  #Mã hóa\n",
        "  if vocab is not None:\n",
        "    X = encode_bow_sparse(test['text'], vocab)\n",
        "  else:\n",
        "    raise ValueError(\"Vocab must be provided\")\n",
        "\n",
        "  Y = test['Spam/Ham'].map({'ham': 0, 'spam': 1}).to_numpy()\n",
        "  return X, Y"
      ],
      "metadata": {
        "id": "Qe78Gp02Ul_a"
      },
      "execution_count": 20,
      "outputs": []
    },
    {
      "cell_type": "code",
      "source": [
        "X, Y = process_test(\"test.csv\", model_self, vocab)"
      ],
      "metadata": {
        "id": "jd9UANhciFjZ"
      },
      "execution_count": 21,
      "outputs": []
    },
    {
      "cell_type": "markdown",
      "source": [
        "### **Phân loại Email**"
      ],
      "metadata": {
        "id": "icvM75PehHb3"
      }
    },
    {
      "cell_type": "code",
      "source": [
        "def predict_test(X, model, vocab):\n",
        "  pred = model.predict(X)\n",
        "  return pred"
      ],
      "metadata": {
        "id": "FL6St5SNflco"
      },
      "execution_count": 22,
      "outputs": []
    },
    {
      "cell_type": "code",
      "source": [
        "label = predict_test(X, model_self, vocab = vocab)"
      ],
      "metadata": {
        "id": "NBK_1DmIiGgz"
      },
      "execution_count": 23,
      "outputs": []
    },
    {
      "cell_type": "markdown",
      "source": [
        "### **Đánh giá**"
      ],
      "metadata": {
        "id": "RH2b9O2phMvo"
      }
    },
    {
      "cell_type": "code",
      "source": [
        "acc, rec, prec, f1 = compute_metrics(Y, label)\n",
        "print(\"Accuracy :\", acc)\n",
        "print(\"Recall   :\", rec)\n",
        "print(\"Precision:\", prec)\n",
        "print(\"F1-score :\", f1)"
      ],
      "metadata": {
        "id": "Posnxn_BhMZB"
      },
      "execution_count": null,
      "outputs": []
    }
  ]
}